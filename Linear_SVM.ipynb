{
 "cells": [
  {
   "cell_type": "markdown",
   "metadata": {},
   "source": [
    "### 2.1.1 Huberized Hinge loss"
   ]
  },
  {
   "cell_type": "markdown",
   "metadata": {},
   "source": [
    "** Plot on a same plot, with different colors, the misclassification error loss, the (regular) hinge loss, and the huberized hinge loss.**"
   ]
  },
  {
   "cell_type": "code",
   "execution_count": 1,
   "metadata": {
    "collapsed": true
   },
   "outputs": [],
   "source": [
    "%matplotlib inline\n",
    "\n",
    "import matplotlib\n",
    "import numpy as np\n",
    "import matplotlib.pyplot as plt\n",
    "from sklearn import preprocessing\n",
    "from sklearn.datasets import make_blobs\n",
    "from sklearn.svm import LinearSVC"
   ]
  },
  {
   "cell_type": "code",
   "execution_count": 2,
   "metadata": {
    "collapsed": false
   },
   "outputs": [],
   "source": [
    "x = np.linspace(-2.0, 2.0, num=100)"
   ]
  },
  {
   "cell_type": "code",
   "execution_count": 3,
   "metadata": {
    "collapsed": false
   },
   "outputs": [],
   "source": [
    "def huberizedHingeLoss(x, h):\n",
    "    if x > 1+h:\n",
    "        return 0\n",
    "    elif abs(1-x) <= h:\n",
    "        return ((1+h-x)**2)/(4*h)\n",
    "    else:\n",
    "        return 1-x\n",
    "\n",
    "def hingeLoss(x):\n",
    "    return max([0, 1-x])\n",
    "\n",
    "def misclassLoss(x):\n",
    "    return 1 if x <= 0 else 0"
   ]
  },
  {
   "cell_type": "code",
   "execution_count": 4,
   "metadata": {
    "collapsed": false
   },
   "outputs": [
    {
     "data": {
      "text/plain": [
       "<matplotlib.text.Text at 0x7ff96c5f9f50>"
      ]
     },
     "execution_count": 4,
     "metadata": {},
     "output_type": "execute_result"
    },
    {
     "data": {
      "image/png": "[encoded data removed]",
      "text/plain": [
       "<matplotlib.figure.Figure at 0x7ff93e578a90>"
      ]
     },
     "metadata": {},
     "output_type": "display_data"
    }
   ],
   "source": [
    "hub, = plt.plot(x, [huberizedHingeLoss(i, 0.5) for i in x], 'b-', label='Huberized Hinge Loss')\n",
    "hinge, = plt.plot(x, [hingeLoss(i) for i in x], 'k-', label='Hinge Loss')\n",
    "mis, = plt.plot(x, [misclassLoss(i) for i in x], 'r-', label='Misclassification Error Loss')\n",
    "plt.legend(handles=[hub,hinge,mis], loc=0)\n",
    "plt.ylabel('Loss value')\n",
    "plt.xlabel('Model output')"
   ]
  },
  {
   "cell_type": "markdown",
   "metadata": {},
   "source": [
    "** Explain how the huberized hinge loss relates to the regular hinge loss and to the misclassification error loss. **"
   ]
  },
  {
   "cell_type": "markdown",
   "metadata": {},
   "source": [
    "Well, Huberized Hinge Loss is a smooth version of Hinge Loss that is differentiable everywhere. As can be seen in the plot, Hinge Loss and Huberized Hinge Loss give loss even when the function output is less than 1. Misclassification Error Loss only acts after the function output falls below 0.\n"
   ]
  },
  {
   "cell_type": "markdown",
   "metadata": {},
   "source": [
    "**Write a mathematical proof that the huberized hinge loss is differentiable (hint: the huberized hinge loss is defined piecewise).**"
   ]
  },
  {
   "cell_type": "markdown",
   "metadata": {},
   "source": [
    "Assuming yt = $x$ and function $f$ as the huberized hinge loss,\n",
    "\n",
    "$$\n",
    "f(x) = \\left\\{\\begin{aligned}\n",
    "&0 &: x > 1+h\\\\\n",
    "&\\frac{(1+h-x)^2}{4h} &: 1-h \\leq x \\leq 1+h\\\\\n",
    "&1-x &: x < 1-h\n",
    "\\end{aligned}\n",
    "\\right.$$\n",
    "\n",
    "Piecewise differentiation of $f$,\n",
    "\n",
    "$$\n",
    "f'(x) = \\left\\{\\begin{aligned}\n",
    "&0 &: x > 1+h\\\\\n",
    "&-\\frac{2(1+h-x)}{4h} &: 1-h \\leq x \\leq 1+h\\\\\n",
    "&-1 &: x < 1-h\n",
    "\\end{aligned}\n",
    "\\right.$$\n",
    "\n",
    "Clearly, $f$ is differentiable on each piece.\n",
    "\n",
    "Let's check $f$'s differentiability on the kinks using $f'(x)$ $= \\lim_{p\\to x}\\frac{f(p)}{p}$.\n",
    "\n",
    "For $1+h$,\n",
    "\\begin{align}\n",
    "f'(1+h) =& \\lim_{p\\to 1+h}\\frac{f(p)}{p}\n",
    "\\end{align}\n",
    "Right limit is,\n",
    "\\begin{align}\n",
    "f'(1+h) =& \\lim_{p\\to (1+h)^+}\\frac{0}{1+h}\n",
    "= 0\n",
    "\\end{align}\n",
    "Left limit is,\n",
    "\\begin{align}\n",
    "f'(1+h) =& \\lim_{p\\to (1+h)^-}\\frac{\\frac{(1+h-(1+h))^2}{4h}}{1+h}\n",
    "= 0\n",
    "\\end{align}\n",
    "\n",
    "Clearly, Right limit = Left limit at $1+h$. Therefore, the function is differentiable at this point.\n",
    "\n",
    "For $1-h$ right limit is,\n",
    "\\begin{align}\n",
    "f'(1-h) =& \\lim_{p\\to (1-h)^+}\\frac{\\frac{(1+h-(1-h))^2}{4h}}{1-h} = \\frac{h}{1-h} \n",
    "\\end{align}\n",
    "Left limit is,\n",
    "\\begin{align}\n",
    "f'(1-h) =& \\lim_{p\\to (1-h)^-}\\frac{1-(1-h)}{1-h} = \\frac{h}{1-h} \n",
    "\\end{align}\n",
    "\n",
    "Clearly, Right limit = Left limit at $1-h$. Therefore, the function is differentiable at this point.\n",
    "\n",
    "This proves that the function is differentiable at all points."
   ]
  },
  {
   "cell_type": "markdown",
   "metadata": {},
   "source": [
    "**Write the analytic expression(s) of the gradient of the huberized hinge loss. ** "
   ]
  },
  {
   "cell_type": "markdown",
   "metadata": {},
   "source": [
    "Analytic expression(s) of the gradient of the huberized hinge loss is,\n",
    "\n",
    "$$\n",
    "l_{huber-hinge}'(yt) = \\left\\{\\begin{aligned}\n",
    "&0 &: yt > 1+h\\\\\n",
    "&-\\frac{2(1+h-yt)}{4h} &: \\left|1-yt\\right| \\leq h\\\\\n",
    "&-1 &: yt < 1-h\n",
    "\\end{aligned}\n",
    "\\right.$$"
   ]
  },
  {
   "cell_type": "markdown",
   "metadata": {},
   "source": [
    "**Is the gradient huberized hinge loss Lipschitz-continuous over a particular domain? (hint: the huberized hinge loss is defined piecewise). If the gradient huberized hinge loss is Lipschitz-continuous, write a mathematical proof. Then, give an upper-bound on the Lipschitz-continuous parameter L, and write the corresponding mathematical proof. If gradient huberized hinge loss is not Lipschitz-continuous, write a mathematical proof.**"
   ]
  },
  {
   "cell_type": "markdown",
   "metadata": {},
   "source": [
    "Yes, huberized hinge loss is Lipschitz-continuous. \n",
    "\n",
    "To prove this, let's check if the absolute value of the derivative is limited by a particular $\\rho$.\n",
    "\n",
    "For cases 1 and 3 from Answer 2, the derivative is limited by 1 ($\\left|-1\\right| = 1$). \n",
    "\n",
    "For the second case, the function is linear in yt, so we only need to check the values at both ends of piece, $1-h$ and $1+h$.\n",
    "\n",
    "\\begin{align}\n",
    "l'_{huber-hinge}(1+h) = -\\frac{2(1+h-(1+h))}{4h} = 0\n",
    "\\end{align}\n",
    "\n",
    "\\begin{align}\n",
    "l'_{huber-hinge}(1-h) = -\\frac{2(1+h-(1-h))}{4h} = -\\frac{4h}{4h} = -1\n",
    "\\end{align}\n",
    "\n",
    "Clearly, this piece is also limited by 1.\n",
    "\n",
    "Therefore, huberized hinge loss is 1-Lipschitz-continuous."
   ]
  },
  {
   "cell_type": "markdown",
   "metadata": {},
   "source": [
    "### 2.1.2 Analytic expressions"
   ]
  },
  {
   "cell_type": "markdown",
   "metadata": {},
   "source": [
    "**Write a function compute_obj, to compute F(w) for a given w. Write a function compute_grad, to compute $\\nabla_w F$ .**"
   ]
  },
  {
   "cell_type": "code",
   "execution_count": 5,
   "metadata": {
    "collapsed": true
   },
   "outputs": [],
   "source": [
    "def compute_obj(x, y, w, C=1.0, h=0.5):\n",
    "    loss = np.vectorize(huberizedHingeLoss, excluded=['h'])\n",
    "    return np.dot(w, w) + (C/float(x.shape[0]))*sum(loss(y*np.dot(x,w), h))"
   ]
  },
  {
   "cell_type": "code",
   "execution_count": 6,
   "metadata": {
    "collapsed": true
   },
   "outputs": [],
   "source": [
    "def compute_grad(x, y, w, C=1.0, h=0.5):\n",
    "    p = y*np.dot(x, w)\n",
    "    gradW = np.zeros(w.shape[0], dtype=float)\n",
    "    \n",
    "    def gradHuberHinge(i, j):\n",
    "        if p[i] > 1+h:\n",
    "            return 0\n",
    "        elif abs(1-p[i]) <= h:\n",
    "            return ((1+h-p[i])/(2*h))*(-y[i]*x[i][j])\n",
    "        else:\n",
    "            return (-y[i]*x[i][j])\n",
    "        \n",
    "    for j in range(w.shape[0]):\n",
    "        sum_over_i = 0.0\n",
    "        for i in range(x.shape[0]):\n",
    "            sum_over_i += gradHuberHinge(i,j)\n",
    "        gradW[j] = 2*w[j] + (C/float(x.shape[0]))*sum_over_i\n",
    "    return gradW"
   ]
  },
  {
   "cell_type": "code",
   "execution_count": 7,
   "metadata": {
    "collapsed": true
   },
   "outputs": [],
   "source": [
    "def add_bias_column(x):\n",
    "    return np.append(x, np.ones(x.shape[0]).reshape(x.shape[0],1), axis=1)"
   ]
  },
  {
   "cell_type": "code",
   "execution_count": 8,
   "metadata": {
    "collapsed": false
   },
   "outputs": [],
   "source": [
    "n_samples = 1000\n",
    "n_features = 30\n",
    "x, y = make_blobs(n_samples, n_features, centers=2)\n",
    "y[y==0] = -1\n",
    "x = add_bias_column(x)"
   ]
  },
  {
   "cell_type": "code",
   "execution_count": 9,
   "metadata": {
    "collapsed": false
   },
   "outputs": [],
   "source": [
    "w = np.zeros(n_features+1)"
   ]
  },
  {
   "cell_type": "code",
   "execution_count": 10,
   "metadata": {
    "collapsed": false
   },
   "outputs": [
    {
     "data": {
      "text/plain": [
       "1.0"
      ]
     },
     "execution_count": 10,
     "metadata": {},
     "output_type": "execute_result"
    }
   ],
   "source": [
    "compute_obj(x, y, w)"
   ]
  },
  {
   "cell_type": "code",
   "execution_count": 11,
   "metadata": {
    "collapsed": false
   },
   "outputs": [
    {
     "data": {
      "text/plain": [
       "array([-4.26265896,  2.80803982,  0.09388749,  0.94673431, -4.56510148,\n",
       "        2.92018346,  4.28997639, -6.93715379,  1.09227397,  0.05250879,\n",
       "       -1.066922  ,  0.64409434, -2.4563554 , -0.02295888,  9.32239952,\n",
       "        4.16132458,  5.10417525, -5.88244061,  4.78804416,  1.8422935 ,\n",
       "        0.67297826,  0.77967799,  2.56123861,  4.41717849, -4.83195831,\n",
       "        3.37086037,  1.21306787,  4.56657821,  3.99944089, -1.83955116,  0.        ])"
      ]
     },
     "execution_count": 11,
     "metadata": {},
     "output_type": "execute_result"
    }
   ],
   "source": [
    "compute_grad(x, y, w)"
   ]
  },
  {
   "cell_type": "markdown",
   "metadata": {
    "collapsed": true
   },
   "source": [
    "### 2.1.3 Numerical checks"
   ]
  },
  {
   "cell_type": "markdown",
   "metadata": {},
   "source": [
    "**Write a function grad_checker.**"
   ]
  },
  {
   "cell_type": "code",
   "execution_count": 12,
   "metadata": {
    "collapsed": true
   },
   "outputs": [],
   "source": [
    "def grad_checker(x, y, w, C=1.0, h=0.5, epsilon=1e-6):\n",
    "    orig_grad = compute_grad(x, y, w, C, h)\n",
    "    for i in range(w.shape[0]):\n",
    "        wplus = np.copy(w)\n",
    "        wneg = np.copy(w)\n",
    "        wplus[i] += epsilon\n",
    "        wneg[i] -= epsilon\n",
    "        new_grad = (compute_obj(x, y, wplus, C, h) - compute_obj(x, y, wneg, C, h))/(2*epsilon)\n",
    "        if abs(new_grad - orig_grad[i]) > epsilon:\n",
    "            print \"Fails at weight \", i\n",
    "            print \"gradient from input function \", orig_grad[i]\n",
    "            print \"gradient from approximation\", new_grad\n",
    "            return\n",
    "    print \"compute_grad is correct\""
   ]
  },
  {
   "cell_type": "code",
   "execution_count": 13,
   "metadata": {
    "collapsed": false
   },
   "outputs": [
    {
     "name": "stdout",
     "output_type": "stream",
     "text": [
      "compute_grad is correct\n"
     ]
    }
   ],
   "source": [
    "grad_checker(x,y,w)"
   ]
  },
  {
   "cell_type": "markdown",
   "metadata": {},
   "source": [
    "### 2.1.4 Gradient Descent"
   ]
  },
  {
   "cell_type": "markdown",
   "metadata": {},
   "source": [
    "**Write a function ``my-gradient-descent`` that implements the gradient descent algorithm with a constant step-size η. The function is initialised at $w_0 = 0$. The function takes as input η and the maximum number of iterations maxiter. The function returns the output $w_T$ with T = maxiter.**"
   ]
  },
  {
   "cell_type": "code",
   "execution_count": 14,
   "metadata": {
    "collapsed": true
   },
   "outputs": [],
   "source": [
    "def my_gradient_descent(x, y, F, dF, eta=0.001, maxiter=1000):\n",
    "    w = np.zeros(x.shape[1])\n",
    "    for i in range(maxiter):\n",
    "        w = w - eta*dF(x,y,w)\n",
    "    return w"
   ]
  },
  {
   "cell_type": "code",
   "execution_count": 15,
   "metadata": {
    "collapsed": false
   },
   "outputs": [
    {
     "name": "stdout",
     "output_type": "stream",
     "text": [
      "CPU times: user 51.6 s, sys: 164 ms, total: 51.8 s\n",
      "Wall time: 51.6 s\n"
     ]
    },
    {
     "data": {
      "text/plain": [
       "array([  1.71387414e-02,  -1.27016942e-02,   1.25600508e-03,\n",
       "        -3.79368173e-03,   1.72691480e-02,  -1.14025280e-02,\n",
       "        -1.57234828e-02,   2.58702748e-02,  -2.77186727e-03,\n",
       "        -2.52426023e-03,   3.80514469e-03,   1.90503619e-05,\n",
       "         8.06794488e-03,  -2.95185891e-03,  -3.42465102e-02,\n",
       "        -1.50054523e-02,  -1.88615930e-02,   2.14726358e-02,\n",
       "        -1.69148348e-02,  -4.89645039e-03,  -3.52164352e-03,\n",
       "        -4.48950219e-03,  -1.09813892e-02,  -1.60506592e-02,\n",
       "         1.73489425e-02,  -1.13118407e-02,  -1.52756346e-03,\n",
       "        -1.49296602e-02,  -1.57198231e-02,   6.05021348e-03,\n",
       "         3.40627622e-04])"
      ]
     },
     "execution_count": 15,
     "metadata": {},
     "output_type": "execute_result"
    }
   ],
   "source": [
    "%time my_gradient_descent(x, y, compute_obj, compute_grad);"
   ]
  },
  {
   "cell_type": "markdown",
   "metadata": {
    "collapsed": true
   },
   "source": [
    "**Generate a synthetic data for binary classification. Each class is modelled as a Gaussian distribution, with 500 examples for training and 500 for testing. Make sure\n",
    "the two classes have sufficient overlap.**"
   ]
  },
  {
   "cell_type": "code",
   "execution_count": 16,
   "metadata": {
    "collapsed": true
   },
   "outputs": [],
   "source": [
    "def dataset_fixed_cov(n,dim):\n",
    "    '''Generate 2 Gaussians samples with the same covariance matrix'''\n",
    "    C = np.array([[0., -0.23], [0.83, .23]])\n",
    "    X = np.r_[np.dot(np.random.randn(n, dim), C),\n",
    "              np.dot(np.random.randn(n, dim), C) + np.array([1, 1])]\n",
    "    y = np.hstack((-np.ones(n), np.ones(n)))\n",
    "    return X, y"
   ]
  },
  {
   "cell_type": "code",
   "execution_count": 17,
   "metadata": {
    "collapsed": false
   },
   "outputs": [
    {
     "data": {
      "text/plain": [
       "[<matplotlib.lines.Line2D at 0x7ff93e56dc90>]"
      ]
     },
     "execution_count": 17,
     "metadata": {},
     "output_type": "execute_result"
    },
    {
     "data": {
      "image/png": "[encoded data removed]",
      "text/plain": [
       "<matplotlib.figure.Figure at 0x7ff9414f6c90>"
      ]
     },
     "metadata": {},
     "output_type": "display_data"
    }
   ],
   "source": [
    "x_train,y_train = dataset_fixed_cov(250,2)\n",
    "plt.plot(x_train[:250,0],x_train[:250,1], 'o', color='red')\n",
    "plt.plot(x_train[250:,0],x_train[250:,1], 'o', color='blue')"
   ]
  },
  {
   "cell_type": "code",
   "execution_count": 18,
   "metadata": {
    "collapsed": false
   },
   "outputs": [
    {
     "data": {
      "text/plain": [
       "[<matplotlib.lines.Line2D at 0x7ff93e3ef150>]"
      ]
     },
     "execution_count": 18,
     "metadata": {},
     "output_type": "execute_result"
    },
    {
     "data": {
      "image/png": "[encoded data removed]",
      "text/plain": [
       "<matplotlib.figure.Figure at 0x7ff93e3ef790>"
      ]
     },
     "metadata": {},
     "output_type": "display_data"
    }
   ],
   "source": [
    "x_test,y_test = dataset_fixed_cov(250,2)\n",
    "plt.plot(x_test[:250,0],x_test[:250,1], 'o', color='red')\n",
    "plt.plot(x_test[250:,0],x_test[250:,1], 'o', color='blue')"
   ]
  },
  {
   "cell_type": "markdown",
   "metadata": {},
   "source": [
    "**Normalize your data.**"
   ]
  },
  {
   "cell_type": "code",
   "execution_count": 19,
   "metadata": {
    "collapsed": false
   },
   "outputs": [],
   "source": [
    "scaler = preprocessing.StandardScaler().fit(x_train)\n",
    "scaler.transform(x_train)\n",
    "scaler.transform(x_test);"
   ]
  },
  {
   "cell_type": "markdown",
   "metadata": {},
   "source": [
    "**You will use here Linear SVM with huberized hinge loss, trained using your gradient descent algorithm. Write a function my-svm for Linear SVM, that can used for training (by calling my-gradient-descent) and testing.**"
   ]
  },
  {
   "cell_type": "code",
   "execution_count": 20,
   "metadata": {
    "collapsed": true
   },
   "outputs": [],
   "source": [
    "class my_svm(object):\n",
    "    def __init__(self):\n",
    "        self.learnt_w = None\n",
    "        \n",
    "    def fit(self, x_train, y_train, eta=0.01, max_iter=1000):\n",
    "        x_copy = add_bias_column(x_train)\n",
    "        self.learnt_w = my_gradient_descent(x_copy, y_train, compute_obj, compute_grad, eta, max_iter)\n",
    "        \n",
    "    def predict(self, x_test):\n",
    "        x_copy = add_bias_column(x_test)\n",
    "        y = np.dot(x_copy, self.learnt_w)\n",
    "        y[y<0] = -1\n",
    "        y[y>0] = 1\n",
    "        return y\n",
    "    \n",
    "    def score(self, x_test, y_test):\n",
    "        y_predict = self.predict(x_test)\n",
    "        bools = y_predict == y_test\n",
    "        accuracy = bools[bools == True].shape[0]/float(bools.shape[0])\n",
    "        return accuracy"
   ]
  },
  {
   "cell_type": "markdown",
   "metadata": {},
   "source": [
    "**Run experiments for various values of the fixed step-size η.**"
   ]
  },
  {
   "cell_type": "code",
   "execution_count": 21,
   "metadata": {
    "collapsed": false
   },
   "outputs": [
    {
     "name": "stdout",
     "output_type": "stream",
     "text": [
      "1.0 0.47\n",
      "0.1 0.75\n",
      "0.01 0.75\n",
      "0.001 0.738\n",
      "0.0001 0.738\n",
      "1e-05 0.738\n",
      "1e-06 0.738\n",
      "1e-07 0.738\n",
      "1e-08 0.738\n"
     ]
    }
   ],
   "source": [
    "svm = my_svm()\n",
    "for k in range(0,9):    \n",
    "    eta = 0.1**k\n",
    "    svm.fit(x_train, y_train, eta)\n",
    "    print eta, svm.score(x_test, y_test)"
   ]
  },
  {
   "cell_type": "markdown",
   "metadata": {},
   "source": [
    "**Visualise the linear separation learned by your Linear SVM**"
   ]
  },
  {
   "cell_type": "code",
   "execution_count": 22,
   "metadata": {
    "collapsed": false
   },
   "outputs": [
    {
     "data": {
      "text/plain": [
       "[<matplotlib.lines.Line2D at 0x7ff93e3fa510>]"
      ]
     },
     "execution_count": 22,
     "metadata": {},
     "output_type": "execute_result"
    },
    {
     "data": {
      "image/png": "[encoded data removed]",
      "text/plain": [
       "<matplotlib.figure.Figure at 0x7ff93e3de790>"
      ]
     },
     "metadata": {},
     "output_type": "display_data"
    }
   ],
   "source": [
    "svm = my_svm()\n",
    "svm.fit(x_train, y_train, 0.01)\n",
    "line = svm.learnt_w\n",
    "plt.plot(x_test[:250,0],x_test[:250,1], 'o', color='red')\n",
    "plt.plot(x_test[250:,0],x_test[250:,1], 'o', color='blue')\n",
    "xx = np.linspace(-3, 3)\n",
    "yy = ((-line[0]/line[1])*xx)+(-line[2]/line[1]) # y = (-a/b)*x + (-c/b)\n",
    "plt.plot(xx, yy)"
   ]
  },
  {
   "cell_type": "markdown",
   "metadata": {},
   "source": [
    "**Plot the objective function vs the iterations, as the gradient\n",
    "descent algorithm proceeds.**"
   ]
  },
  {
   "cell_type": "code",
   "execution_count": 23,
   "metadata": {
    "collapsed": true
   },
   "outputs": [],
   "source": [
    "def modified_gradient_descent(x, y, F, dF, eta=0.01, maxiter=1000):\n",
    "    w = np.zeros(x.shape[1])\n",
    "    F_vals = np.zeros(maxiter)\n",
    "    for i in range(maxiter):\n",
    "        w = w - eta*dF(x,y,w)\n",
    "        F_vals[i] = F(x,y,w)\n",
    "    return w, F_vals"
   ]
  },
  {
   "cell_type": "code",
   "execution_count": 24,
   "metadata": {
    "collapsed": false
   },
   "outputs": [
    {
     "data": {
      "text/plain": [
       "[<matplotlib.lines.Line2D at 0x7ff93e1d3a90>]"
      ]
     },
     "execution_count": 24,
     "metadata": {},
     "output_type": "execute_result"
    },
    {
     "data": {
      "image/png": "[encoded data removed]",
      "text/plain": [
       "<matplotlib.figure.Figure at 0x7ff9640c1110>"
      ]
     },
     "metadata": {},
     "output_type": "display_data"
    }
   ],
   "source": [
    "x_copy = add_bias_column(x_train)\n",
    "_, F_vals = modified_gradient_descent(x_copy, y_train, compute_obj, compute_grad)\n",
    "iterations = np.arange(1000)\n",
    "plt.plot(iterations, F_vals)"
   ]
  },
  {
   "cell_type": "markdown",
   "metadata": {
    "collapsed": false
   },
   "source": [
    "**Implement backtracking line search (google it). Profile your\n",
    "code, optimise in terms of speed. **"
   ]
  },
  {
   "cell_type": "code",
   "execution_count": 25,
   "metadata": {
    "collapsed": false
   },
   "outputs": [],
   "source": [
    "def backtracked_gradient_descent(x, y, F, dF, maxiter=100):\n",
    "    w = np.zeros(x.shape[1])\n",
    "    beta = 0.8\n",
    "    F_vals = np.zeros(maxiter)\n",
    "    for i in range(maxiter):\n",
    "        eta = 1\n",
    "        val = F(x,y,w)\n",
    "        grad = dF(x,y,w)\n",
    "        while F(x, y, (w - eta * grad)) > val - ((eta/2.) * grad.dot(grad)): \n",
    "            eta = beta * eta\n",
    "        #print eta\n",
    "        w = w - eta*grad\n",
    "        F_vals[i] = F(x,y,w)\n",
    "    return w, F_vals"
   ]
  },
  {
   "cell_type": "code",
   "execution_count": 26,
   "metadata": {
    "collapsed": false
   },
   "outputs": [
    {
     "data": {
      "text/plain": [
       "[<matplotlib.lines.Line2D at 0x7ff93e0f2ed0>]"
      ]
     },
     "execution_count": 26,
     "metadata": {},
     "output_type": "execute_result"
    },
    {
     "data": {
      "image/png": "[encoded data removed]",
      "text/plain": [
       "<matplotlib.figure.Figure at 0x7ff93e206bd0>"
      ]
     },
     "metadata": {},
     "output_type": "display_data"
    }
   ],
   "source": [
    "x_copy = add_bias_column(x_train)\n",
    "_, F_vals = backtracked_gradient_descent(x_copy, y_train, compute_obj, compute_grad)\n",
    "iterations = np.arange(100)\n",
    "plt.plot(iterations, F_vals)"
   ]
  },
  {
   "cell_type": "markdown",
   "metadata": {},
   "source": [
    "**Add several options to my-svm that allow the user to choose between the different stopping\n",
    "criteria: i) maximum number of iterations; ii) optimization-based criterion.**"
   ]
  },
  {
   "cell_type": "code",
   "execution_count": 27,
   "metadata": {
    "collapsed": true
   },
   "outputs": [],
   "source": [
    "class my_svm(object):\n",
    "\n",
    "    def huberizedHingeLoss(self, x, h):\n",
    "        if x > 1+h:\n",
    "            return 0\n",
    "        elif abs(1-x) <= h:\n",
    "            return ((1+h-x)**2)/(4*h)\n",
    "        else:\n",
    "            return 1-x\n",
    "        \n",
    "    def add_bias_column(self, x):\n",
    "        return np.append(x, np.ones(x.shape[0]).reshape(x.shape[0],1), axis=1)\n",
    "    \n",
    "    def compute_obj(self, x, y, w, C=1.0, h=0.5):\n",
    "        loss = np.vectorize(self.huberizedHingeLoss, excluded=['h'])\n",
    "        return np.dot(w, w) + (C/float(x.shape[0]))*sum(loss(y*np.dot(x,w), h))\n",
    "\n",
    "    def compute_grad(self, x, y, w, C=1.0, h=0.5):\n",
    "        p = y*np.dot(x, w)\n",
    "        gradW = np.zeros(w.shape[0], dtype=float)\n",
    "\n",
    "        def gradHuberHinge(i, j):\n",
    "            if p[i] > 1+h:\n",
    "                return 0\n",
    "            elif abs(1-p[i]) <= h:\n",
    "                return ((1+h-p[i])/(2*h))*(-y[i]*x[i][j])\n",
    "            else:\n",
    "                return (-y[i]*x[i][j])\n",
    "\n",
    "        for j in range(w.shape[0]):\n",
    "            sum_over_i = 0.0\n",
    "            for i in range(x.shape[0]):\n",
    "                sum_over_i += gradHuberHinge(i,j)\n",
    "            gradW[j] = 2*w[j] + (C/float(x.shape[0]))*sum_over_i\n",
    "        return gradW\n",
    "\n",
    "    def __init__(self, stop_criteria=\"iter\", eta=0.01, max_iter=1000, epsilon=1e-3):\n",
    "        self.learnt_w = None\n",
    "        self.stop_criteria = stop_criteria\n",
    "        self.eta = eta\n",
    "        # i) maximum number of iterations\n",
    "        self.max_iter = max_iter\n",
    "        # ii) optimization-based criterion\n",
    "        self.epsilon = epsilon\n",
    "        \n",
    "    def fit(self, x_train, y_train):\n",
    "        x = self.add_bias_column(x_train)\n",
    "        y = y_train\n",
    "        w = np.zeros(x.shape[1])\n",
    "        F = self.compute_obj\n",
    "        dF = self.compute_grad\n",
    "        if self.stop_criteria == \"iter\":\n",
    "            for i in range(self.max_iter):\n",
    "                #print w, self.eta * dF(x,y,w)     \n",
    "                eta = 1\n",
    "                val = F(x,y,w)\n",
    "                grad = dF(x,y,w)\n",
    "                while F(x, y, (w - eta * grad)) > val - ((eta/2.) * grad.dot(grad)): \n",
    "                    eta = beta * eta\n",
    "                w = w - eta*grad\n",
    "                w = w - self.eta * dF(x,y,w)    \n",
    "        elif self.stop_criteria == \"opt\":\n",
    "            grad = dF(x,y,w) \n",
    "            \n",
    "            while np.sqrt(grad.dot(grad)) > self.epsilon:\n",
    "                #print F(x,y,w)\n",
    "                #print w, self.eta * dF(x,y,w)  \n",
    "                w = w - self.eta * grad\n",
    "                grad = dF(x,y,w)\n",
    "        self.learnt_w = w\n",
    "        \n",
    "    def predict(self, x_test):\n",
    "        x = self.add_bias_column(x_test)\n",
    "        y = np.dot(x, self.learnt_w)\n",
    "        y[y<0] = -1\n",
    "        y[y>0] = 1\n",
    "        return y\n",
    "    \n",
    "    def score(self, x_test, y_test):\n",
    "        y_predict = self.predict(x_test)\n",
    "        bools = y_predict == y_test\n",
    "        accuracy = bools[bools == True].shape[0]/float(bools.shape[0])\n",
    "        return accuracy"
   ]
  },
  {
   "cell_type": "code",
   "execution_count": 28,
   "metadata": {
    "collapsed": false
   },
   "outputs": [
    {
     "name": "stdout",
     "output_type": "stream",
     "text": [
      "[-0.26734251  0.38592644 -0.00764976]\n"
     ]
    },
    {
     "data": {
      "text/plain": [
       "[<matplotlib.lines.Line2D at 0x7ff964042a50>]"
      ]
     },
     "execution_count": 28,
     "metadata": {},
     "output_type": "execute_result"
    },
    {
     "data": {
      "image/png": "[encoded data removed]",
      "text/plain": [
       "<matplotlib.figure.Figure at 0x7ff93e2ea050>"
      ]
     },
     "metadata": {},
     "output_type": "display_data"
    }
   ],
   "source": [
    "def dataset_fixed_cov(n,dim):\n",
    "    '''Generate 2 Gaussians samples with the same covariance matrix'''\n",
    "    C = np.array([[-0.8, 0.2], [0.8, 0.2]])\n",
    "    X = np.r_[np.dot(np.random.randn(n, dim), C) + np.array([1, -1]),\n",
    "              np.dot(np.random.randn(n, dim), C) + np.array([-1, 1])]\n",
    "    y = np.hstack((-np.ones(n), np.ones(n)))\n",
    "    return X, y\n",
    "\n",
    "x_train, y_train = dataset_fixed_cov(250,2)\n",
    "x_test, y_test = dataset_fixed_cov(250,2)\n",
    "\n",
    "scaler = preprocessing.StandardScaler().fit(x_train)\n",
    "scaler.transform(x_train)\n",
    "scaler.transform(x_test);\n",
    "\n",
    "plt.plot(x_train[:250,0], x_train[:250,1], 'o', color='red')\n",
    "plt.plot(x_train[250:,0], x_train[250:,1], 'o', color='blue')\n",
    "\n",
    "svm = my_svm(stop_criteria=\"opt\")\n",
    "svm.fit(x_train, y_train)\n",
    "line = svm.learnt_w\n",
    "print line\n",
    "\n",
    "xx = np.linspace(-5, 5)\n",
    "yy = ((-line[0]/line[1])*xx)+(-line[2]/line[1]) # y = (-a/b)*x + (-c/b)\n",
    "plt.plot(xx, yy)\n",
    "\n",
    "\n",
    "svm = LinearSVC()\n",
    "svm.fit(x_train, y_train)\n",
    "line = svm.coef_\n",
    "\n",
    "xx = np.linspace(-5, 5)\n",
    "yy = ((-svm.coef_[0][0]/svm.coef_[0][1])*xx)+(-svm.intercept_[0]/svm.coef_[0][1]) # y = (-a/b)*x + (-c/b)\n",
    "plt.plot(xx, yy)\n"
   ]
  },
  {
   "cell_type": "markdown",
   "metadata": {},
   "source": [
    "## 2.1.5 Stochastic Gradient Descent"
   ]
  },
  {
   "cell_type": "markdown",
   "metadata": {},
   "source": [
    "**Write a function my-sgd that implements stochastic gradient, as described in the lecture slides.\n",
    "The function is initialised at w_0 = 0. The function takes as input η_0 and t_0 and a stopping criterion along the same lines as for the regular gradient descent. Only the counterparts of stopping criteria\n",
    "i) and iii) apply here. The function returns the last iterate w_T.**"
   ]
  },
  {
   "cell_type": "code",
   "execution_count": 29,
   "metadata": {
    "collapsed": true
   },
   "outputs": [],
   "source": [
    "def my_sgd(x, y, F, dF, eta=0.01, epochs=20):\n",
    "    w = np.zeros(x.shape[1])\n",
    "    for i in range(epochs):\n",
    "        for j in range(x.shape[0]):\n",
    "            grad = dF(x[j:j+1,:],y[j:j+1],w)\n",
    "            w = w - eta*grad\n",
    "    return w"
   ]
  },
  {
   "cell_type": "code",
   "execution_count": 30,
   "metadata": {
    "collapsed": false
   },
   "outputs": [],
   "source": [
    "x_train,y_train = dataset_fixed_cov(50000,2)"
   ]
  },
  {
   "cell_type": "code",
   "execution_count": 31,
   "metadata": {
    "collapsed": false
   },
   "outputs": [],
   "source": [
    "x_copy = add_bias_column(x_train)"
   ]
  },
  {
   "cell_type": "code",
   "execution_count": 33,
   "metadata": {
    "collapsed": false
   },
   "outputs": [
    {
     "name": "stdout",
     "output_type": "stream",
     "text": [
      "CPU times: user 57.5 s, sys: 100 ms, total: 57.6 s\n",
      "Wall time: 57.6 s\n"
     ]
    }
   ],
   "source": [
    "%time sgd_w = my_sgd(x_copy, y_train, compute_obj, compute_grad)"
   ]
  },
  {
   "cell_type": "code",
   "execution_count": null,
   "metadata": {
    "collapsed": true
   },
   "outputs": [],
   "source": []
  }
 ],
 "metadata": {
  "kernelspec": {
   "display_name": "Python 2",
   "language": "python",
   "name": "python2"
  },
  "language_info": {
   "codemirror_mode": {
    "name": "ipython",
    "version": 2
   },
   "file_extension": ".py",
   "mimetype": "text/x-python",
   "name": "python",
   "nbconvert_exporter": "python",
   "pygments_lexer": "ipython2",
   "version": "2.7.6"
  }
 },
 "nbformat": 4,
 "nbformat_minor": 0
}
